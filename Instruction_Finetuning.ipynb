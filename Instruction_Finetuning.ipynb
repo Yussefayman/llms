{
 "cells": [
  {
   "cell_type": "markdown",
   "id": "dbf3664c-c71e-4551-89b8-5db369753fc1",
   "metadata": {},
   "source": [
    "Preparing a dataset for supervised instruction finetuning"
   ]
  },
  {
   "cell_type": "code",
   "execution_count": 1,
   "id": "f365ccf5-3e63-4bba-aca6-2b0ea0a1d52c",
   "metadata": {},
   "outputs": [
    {
     "name": "stdout",
     "output_type": "stream",
     "text": [
      "Number of entries: 1100\n"
     ]
    }
   ],
   "source": [
    "import json\n",
    "import os\n",
    "import urllib\n",
    "\n",
    "\n",
    "def download_and_load_file(file_path, url):\n",
    "\n",
    "    if not os.path.exists(file_path):\n",
    "        with urllib.request.urlopen(url) as response:\n",
    "            text_data = response.read().decode(\"utf-8\")\n",
    "        with open(file_path, \"w\", encoding=\"utf-8\") as file:\n",
    "            file.write(text_data)\n",
    "\n",
    "    # The book originally contained this unnecessary \"else\" clause:\n",
    "    #else:\n",
    "    #    with open(file_path, \"r\", encoding=\"utf-8\") as file:\n",
    "    #        text_data = file.read()\n",
    "\n",
    "    with open(file_path, \"r\", encoding=\"utf-8\") as file:\n",
    "        data = json.load(file)\n",
    "\n",
    "    return data\n",
    "\n",
    "\n",
    "file_path = \"instruction-data.json\"\n",
    "url = (\n",
    "    \"https://raw.githubusercontent.com/rasbt/LLMs-from-scratch\"\n",
    "    \"/main/ch07/01_main-chapter-code/instruction-data.json\"\n",
    ")\n",
    "\n",
    "data = download_and_load_file(file_path, url)\n",
    "print(\"Number of entries:\", len(data))"
   ]
  },
  {
   "cell_type": "code",
   "execution_count": 2,
   "id": "de94d0ff-1834-4b1f-a000-d705c4dc3786",
   "metadata": {},
   "outputs": [
    {
     "data": {
      "text/plain": [
       "[{'instruction': 'Evaluate the following phrase by transforming it into the spelling given.',\n",
       "  'input': 'freind --> friend',\n",
       "  'output': 'The spelling of the given phrase \"freind\" is incorrect, the correct spelling is \"friend\".'},\n",
       " {'instruction': 'Edit the following sentence for grammar.',\n",
       "  'input': 'He go to the park every day.',\n",
       "  'output': 'He goes to the park every day.'}]"
      ]
     },
     "execution_count": 2,
     "metadata": {},
     "output_type": "execute_result"
    }
   ],
   "source": [
    "data[:2]"
   ]
  },
  {
   "cell_type": "code",
   "execution_count": 3,
   "id": "6a040557-d7dd-48c9-86ad-42846518b089",
   "metadata": {},
   "outputs": [
    {
     "data": {
      "text/plain": [
       "{'instruction': \"What is an antonym of 'complicated'?\",\n",
       " 'input': '',\n",
       " 'output': \"An antonym of 'complicated' is 'simple'.\"}"
      ]
     },
     "execution_count": 3,
     "metadata": {},
     "output_type": "execute_result"
    }
   ],
   "source": [
    "data[999]"
   ]
  },
  {
   "cell_type": "code",
   "execution_count": 7,
   "id": "368bd5a9-b42d-4735-8e63-f7a84ffc448a",
   "metadata": {},
   "outputs": [],
   "source": [
    "def format_input(entry):\n",
    "    instruction_text = (\n",
    "        f\"Below is an instruction that describes a task.\"\n",
    "        f\" Write a response that appropriately completes the request.\"\n",
    "        f\"\\n\\n### Instruction:\\n{entry['instruction']}\"\n",
    "    )\n",
    "    input_text = f\"\\n\\n### Input:\\n{entry['input']}\" if entry['input'] else \"\"\n",
    "    return instruction_text + input_text"
   ]
  },
  {
   "cell_type": "code",
   "execution_count": 9,
   "id": "af1a1d73-3474-4e67-8ed7-f6091cf4c074",
   "metadata": {},
   "outputs": [
    {
     "name": "stdout",
     "output_type": "stream",
     "text": [
      "Below is an instruction that describes a task. Write a response that appropriately completes the request.\n",
      "\n",
      "### Instruction:\n",
      "Identify the correct spelling of the following word.\n",
      "\n",
      "### Input:\n",
      "Ocassion\n"
     ]
    }
   ],
   "source": [
    "print(format_input(data[50]))"
   ]
  },
  {
   "cell_type": "code",
   "execution_count": 10,
   "id": "826fcf69-62cb-445d-b328-763467dcbab4",
   "metadata": {},
   "outputs": [
    {
     "name": "stdout",
     "output_type": "stream",
     "text": [
      "Below is an instruction that describes a task. Write a response that appropriately completes the request.\n",
      "\n",
      "### Instruction:\n",
      "What is an antonym of 'complicated'?\n"
     ]
    }
   ],
   "source": [
    "print(format_input(data[999]))"
   ]
  },
  {
   "cell_type": "code",
   "execution_count": 11,
   "id": "7e96774a-e7a2-4194-b773-1f458e7cf054",
   "metadata": {},
   "outputs": [
    {
     "name": "stdout",
     "output_type": "stream",
     "text": [
      "Below is an instruction that describes a task. Write a response that appropriately completes the request.\n",
      "\n",
      "### Instruction:\n",
      "What is an antonym of 'complicated'?\n",
      "\n",
      "### Response:\n",
      "An antonym of 'complicated' is 'simple'.\n"
     ]
    }
   ],
   "source": [
    "model_input = format_input(data[999])\n",
    "desired_response = f\"\\n\\n### Response:\\n{data[999]['output']}\"\n",
    "print(model_input + desired_response)"
   ]
  },
  {
   "cell_type": "code",
   "execution_count": 12,
   "id": "6bd77049-0a9b-41c3-aeba-b688e69063e1",
   "metadata": {},
   "outputs": [],
   "source": [
    "train_portion = int(len(data) * 0.85)\n",
    "test_portion = int(len(data) * 0.1)\n",
    "val_portion = len(data) - train_portion - test_portion\n",
    "train_data = data[:train_portion]\n",
    "test_data = data[train_portion:train_portion+test_portion]\n",
    "val_data = data[train_portion+test_portion:]"
   ]
  },
  {
   "cell_type": "code",
   "execution_count": 13,
   "id": "f23a06d0-20f8-43ae-8465-446d05bda24d",
   "metadata": {},
   "outputs": [
    {
     "name": "stdout",
     "output_type": "stream",
     "text": [
      "Training set length: 935\n",
      "Validation set length: 55\n",
      "Test set length: 110\n"
     ]
    }
   ],
   "source": [
    "print(\"Training set length:\",len(train_data))\n",
    "print(\"Validation set length:\",len(val_data))\n",
    "print(\"Test set length:\",len(test_data))"
   ]
  },
  {
   "cell_type": "markdown",
   "id": "1ed54f4e-66d6-4206-abcb-809a66c992c7",
   "metadata": {},
   "source": [
    "Organizing data into training batches"
   ]
  },
  {
   "cell_type": "code",
   "execution_count": 14,
   "id": "2808b24f-2fa6-47a7-bf1f-38bc4ec8a025",
   "metadata": {},
   "outputs": [],
   "source": [
    "import torch\n",
    "from torch.utils.data import Dataset\n",
    "\n",
    "class InstructionDataset(Dataset):\n",
    "    def __init__(self,data,tokenizer):\n",
    "        self.data = data\n",
    "        self.encoded_texts = []\n",
    "        for entry in data:\n",
    "            instruction_plus_input = format_input(entry)\n",
    "            response_text = f\"\\n\\n### Response:\\n{entry['output']}\"\n",
    "            full_text = instruction_plus_input + response_text\n",
    "            self.encoded_texts.append(tokenizer.encode(full_text))\n",
    "\n",
    "    def __getitem__(self,index):\n",
    "        return self.encoded_texts[index]\n",
    "    def __len__(self):\n",
    "        return len(self.data)"
   ]
  },
  {
   "cell_type": "code",
   "execution_count": 15,
   "id": "08bd7989-c23a-4cfc-9745-33bf39af7978",
   "metadata": {},
   "outputs": [],
   "source": [
    "import tiktoken\n",
    "tokenizer = tiktoken.get_encoding(\"gpt2\")"
   ]
  },
  {
   "cell_type": "code",
   "execution_count": 16,
   "id": "d305e861-df17-4eea-a156-7fdf7e6affb3",
   "metadata": {},
   "outputs": [],
   "source": [
    "def custom_collate_draft_1(batch,pad_token_id=50256,device=\"cuda\"):\n",
    "    batch_max_length = max(len(item)+1 for item in batch)\n",
    "    inputs_lst = []\n",
    "    for item in batch:\n",
    "        new_item = item.copy()\n",
    "        new_item +=[pad_token_id]\n",
    "        padded = (\n",
    "            new_item + [pad_token_id] * (batch_max_length - len(new_item))\n",
    "        )\n",
    "        inputs = torch.tensor(padded[:-1])\n",
    "        inputs_lst.append(inputs)\n",
    "    inputs_tensor = torch.stack(inputs_lst).to(device)\n",
    "    return inputs_tensor"
   ]
  },
  {
   "cell_type": "code",
   "execution_count": 17,
   "id": "287c217a-17fb-4bb5-990d-558d03483ed5",
   "metadata": {},
   "outputs": [
    {
     "data": {
      "text/plain": [
       "tensor([[    0,     1,     2,     3,     4],\n",
       "        [    5,     6, 50256, 50256, 50256],\n",
       "        [    7,     8,     9, 50256, 50256]], device='cuda:0')"
      ]
     },
     "execution_count": 17,
     "metadata": {},
     "output_type": "execute_result"
    }
   ],
   "source": [
    "inputs_1 = [0,1,2,3,4]\n",
    "inputs_2 = [5,6]\n",
    "inputs_3 = [7,8,9]\n",
    "\n",
    "batch = (inputs_1,inputs_2,inputs_3)\n",
    "custom_collate_draft_1(batch)"
   ]
  },
  {
   "cell_type": "code",
   "execution_count": 18,
   "id": "6dcca23a-95ae-4534-8da4-3188d9c6c72d",
   "metadata": {},
   "outputs": [],
   "source": [
    "def custom_collate_draft_2(batch,pad_token_id=50256,device=\"cuda\"):\n",
    "    batch_max_length = max(len(item)+1 for item in batch)\n",
    "    inputs_lst,targets_lst = [],[]\n",
    "    for item in batch:\n",
    "        new_item = item.copy()\n",
    "        new_item +=[pad_token_id]\n",
    "        padded = (\n",
    "            new_item + [pad_token_id] * (batch_max_length - len(new_item))\n",
    "        )\n",
    "        inputs = torch.tensor(padded[:-1])\n",
    "        targets = torch.tensor(padded[1:])\n",
    "        inputs_lst.append(inputs)\n",
    "        targets_lst.append(targets)\n",
    "    inputs_tensor = torch.stack(inputs_lst).to(device)\n",
    "    targets_tensor = torch.stack(targets_lst).to(device)\n",
    "    return inputs_tensor, targets_tensor"
   ]
  },
  {
   "cell_type": "code",
   "execution_count": 21,
   "id": "9722774d-79f4-4df5-86a4-d3e72d528a46",
   "metadata": {},
   "outputs": [],
   "source": [
    "inputs_1 = [0,1,2,3,4]\n",
    "inputs_2 = [5,6]\n",
    "inputs_3 = [7,8,9]\n",
    "\n",
    "batch = (inputs_1,inputs_2,inputs_3)\n",
    "inputs_tensor, targets_tensor = custom_collate_draft_2(batch)"
   ]
  },
  {
   "cell_type": "code",
   "execution_count": 22,
   "id": "d62be4bf-ccf9-46f3-90ce-d3af77bc2317",
   "metadata": {},
   "outputs": [
    {
     "data": {
      "text/plain": [
       "tensor([[    0,     1,     2,     3,     4],\n",
       "        [    5,     6, 50256, 50256, 50256],\n",
       "        [    7,     8,     9, 50256, 50256]], device='cuda:0')"
      ]
     },
     "execution_count": 22,
     "metadata": {},
     "output_type": "execute_result"
    }
   ],
   "source": [
    "inputs_tensor"
   ]
  },
  {
   "cell_type": "code",
   "execution_count": 23,
   "id": "a25ff963-fd54-4d05-ae01-f22d75d74259",
   "metadata": {},
   "outputs": [
    {
     "data": {
      "text/plain": [
       "tensor([[    1,     2,     3,     4, 50256],\n",
       "        [    6, 50256, 50256, 50256, 50256],\n",
       "        [    8,     9, 50256, 50256, 50256]], device='cuda:0')"
      ]
     },
     "execution_count": 23,
     "metadata": {},
     "output_type": "execute_result"
    }
   ],
   "source": [
    "targets_tensor"
   ]
  },
  {
   "cell_type": "code",
   "execution_count": 24,
   "id": "26e72dcc-ee3c-4f06-8074-09741fa6f546",
   "metadata": {},
   "outputs": [],
   "source": [
    "def custom_collate(batch,pad_token_id=50256, ignore_index = -100, allowed_max_length = None,device=\"cuda\"):\n",
    "    batch_max_length = max(len(item)+1 for item in batch)\n",
    "    inputs_lst,targets_lst = [],[]\n",
    "    for item in batch:\n",
    "        new_item = item.copy()\n",
    "        new_item +=[pad_token_id]\n",
    "        padded = (\n",
    "            new_item + [pad_token_id] * (batch_max_length - len(new_item))\n",
    "        )\n",
    "        inputs = torch.tensor(padded[:-1])\n",
    "        targets = torch.tensor(padded[1:])\n",
    "        \n",
    "        mask = targets == pad_token_id\n",
    "        indices = torch.nonzero(mask).squeeze()\n",
    "        if indices.numel() > 1:\n",
    "            targets[indices[1:]] = ignore_index\n",
    "\n",
    "        if allowed_max_length is not None:\n",
    "            inputs = inputs[:allowed_max_length]\n",
    "            targets = targets[:allowed_max_length]\n",
    "        inputs_lst.append(inputs)\n",
    "        targets_lst.append(targets)\n",
    "    inputs_tensor = torch.stack(inputs_lst).to(device)\n",
    "    targets_tensor = torch.stack(targets_lst).to(device)\n",
    "    return inputs_tensor, targets_tensor"
   ]
  },
  {
   "cell_type": "code",
   "execution_count": 25,
   "id": "50c2ec93-6066-4e7e-8132-148f0d9ad636",
   "metadata": {},
   "outputs": [],
   "source": [
    "inputs_1 = [0,1,2,3,4]\n",
    "inputs_2 = [5,6]\n",
    "inputs_3 = [7,8,9]\n",
    "\n",
    "batch = (inputs_1,inputs_2,inputs_3)\n",
    "inputs_tensor, targets_tensor = custom_collate(batch)"
   ]
  },
  {
   "cell_type": "code",
   "execution_count": 26,
   "id": "ab450304-ae24-40e2-91e3-874350ea914a",
   "metadata": {},
   "outputs": [
    {
     "data": {
      "text/plain": [
       "tensor([[    0,     1,     2,     3,     4],\n",
       "        [    5,     6, 50256, 50256, 50256],\n",
       "        [    7,     8,     9, 50256, 50256]], device='cuda:0')"
      ]
     },
     "execution_count": 26,
     "metadata": {},
     "output_type": "execute_result"
    }
   ],
   "source": [
    "inputs_tensor"
   ]
  },
  {
   "cell_type": "code",
   "execution_count": 27,
   "id": "dbba13b1-b9b9-47c9-a2aa-23b9a3c9f72d",
   "metadata": {},
   "outputs": [
    {
     "data": {
      "text/plain": [
       "tensor([[    1,     2,     3,     4, 50256],\n",
       "        [    6, 50256,  -100,  -100,  -100],\n",
       "        [    8,     9, 50256,  -100,  -100]], device='cuda:0')"
      ]
     },
     "execution_count": 27,
     "metadata": {},
     "output_type": "execute_result"
    }
   ],
   "source": [
    "targets_tensor"
   ]
  },
  {
   "cell_type": "code",
   "execution_count": 28,
   "id": "986e01e9-3ef1-4b6c-8e07-13da94b2d398",
   "metadata": {},
   "outputs": [
    {
     "name": "stdout",
     "output_type": "stream",
     "text": [
      "tensor(1.1269)\n"
     ]
    }
   ],
   "source": [
    "logits_1 = torch.tensor(\n",
    "    [[-1.0, 1.0],  # 1st training example\n",
    "     [-0.5, 1.5]]  # 2nd training example\n",
    ")\n",
    "targets_1 = torch.tensor([0, 1])\n",
    "\n",
    "\n",
    "loss_1 = torch.nn.functional.cross_entropy(logits_1, targets_1)\n",
    "print(loss_1)"
   ]
  },
  {
   "cell_type": "code",
   "execution_count": 29,
   "id": "51c7abf9-184f-4900-a835-d80f13303e47",
   "metadata": {},
   "outputs": [
    {
     "name": "stdout",
     "output_type": "stream",
     "text": [
      "tensor(0.7936)\n"
     ]
    }
   ],
   "source": [
    "logits_2 = torch.tensor(\n",
    "    [[-1.0, 1.0],\n",
    "     [-0.5, 1.5],\n",
    "     [-0.5, 1.5]]  # New 3rd training example\n",
    ")\n",
    "targets_2 = torch.tensor([0, 1, 1])\n",
    "\n",
    "loss_2 = torch.nn.functional.cross_entropy(logits_2, targets_2)\n",
    "print(loss_2)"
   ]
  },
  {
   "cell_type": "code",
   "execution_count": 30,
   "id": "8f9ab23e-84d9-44ce-877f-64bb5fa48e27",
   "metadata": {},
   "outputs": [
    {
     "name": "stdout",
     "output_type": "stream",
     "text": [
      "tensor(1.1269)\n",
      "loss_1 == loss_3: tensor(True)\n"
     ]
    }
   ],
   "source": [
    "targets_3 = torch.tensor([0, 1, -100])\n",
    "\n",
    "loss_3 = torch.nn.functional.cross_entropy(logits_2, targets_3)\n",
    "print(loss_3)\n",
    "print(\"loss_1 == loss_3:\", loss_1 == loss_3)"
   ]
  },
  {
   "cell_type": "code",
   "execution_count": null,
   "id": "22aae6d2-dcb1-42db-b776-246a3cd57efd",
   "metadata": {},
   "outputs": [],
   "source": []
  }
 ],
 "metadata": {
  "kernelspec": {
   "display_name": "Python 3 (ipykernel)",
   "language": "python",
   "name": "python3"
  },
  "language_info": {
   "codemirror_mode": {
    "name": "ipython",
    "version": 3
   },
   "file_extension": ".py",
   "mimetype": "text/x-python",
   "name": "python",
   "nbconvert_exporter": "python",
   "pygments_lexer": "ipython3",
   "version": "3.12.3"
  }
 },
 "nbformat": 4,
 "nbformat_minor": 5
}
