{
 "cells": [
  {
   "cell_type": "markdown",
   "id": "700971ee-8948-4a76-85d8-fb1b73d4b6d7",
   "metadata": {},
   "source": [
    "Finetuning for classification"
   ]
  },
  {
   "cell_type": "code",
   "execution_count": null,
   "id": "b6608331-e08f-4dfb-ba73-6b00c1487f83",
   "metadata": {},
   "outputs": [],
   "source": []
  }
 ],
 "metadata": {
  "kernelspec": {
   "display_name": "Python 3 (ipykernel)",
   "language": "python",
   "name": "python3"
  },
  "language_info": {
   "codemirror_mode": {
    "name": "ipython",
    "version": 3
   },
   "file_extension": ".py",
   "mimetype": "text/x-python",
   "name": "python",
   "nbconvert_exporter": "python",
   "pygments_lexer": "ipython3",
   "version": "3.12.3"
  }
 },
 "nbformat": 4,
 "nbformat_minor": 5
}
